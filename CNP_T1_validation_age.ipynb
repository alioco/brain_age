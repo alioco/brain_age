{
 "cells": [
  {
   "cell_type": "markdown",
   "metadata": {},
   "source": [
    "# BrainAge Project"
   ]
  },
  {
   "cell_type": "code",
   "execution_count": 23,
   "metadata": {},
   "outputs": [],
   "source": [
    "import pandas as pd\n",
    "import numpy as np\n",
    "import nibabel as nib\n",
    "from sklearn.svm import LinearSVR\n",
    "# from sklearn.linear_model import LinearRegression\n",
    "from sklearn.feature_selection import VarianceThreshold, SelectKBest, f_regression\n",
    "import os\n",
    "from sklearn.model_selection import train_test_split\n",
    "from sklearn.model_selection import GridSearchCV\n",
    "from sklearn.metrics import mean_absolute_error, r2_score\n",
    "from nilearn.input_data import NiftiMasker\n",
    "import random\n",
    "import matplotlib.pyplot as plt\n",
    "import datetime"
   ]
  },
  {
   "cell_type": "code",
   "execution_count": 20,
   "metadata": {},
   "outputs": [],
   "source": [
    "# Config\n",
    "toy = True\n",
    "run_all = False\n",
    "\n",
    "path = '/home/ubuntu/fmriprep/'\n",
    "# output_dir = '/output/' #AWS cloud\n",
    "output_dir = 'data/CNP_T1/' #For Daniel's computer\n",
    "\n",
    "n_jobs = 20 #amount of cores\n",
    "cv=4\n",
    "\n",
    "description = 'CNP_T1_validation_age_'\n",
    "log_file = description+datetime.datetime.now().strftime(\"%y-%m-%d-%H-%M-%S\")"
   ]
  },
  {
   "cell_type": "code",
   "execution_count": 62,
   "metadata": {
    "collapsed": true
   },
   "outputs": [],
   "source": [
    "# Load data\n",
    "loaded = np.load(output_dir+'train_set.npz')\n",
    "X_train, y_train, random_subj_train = loaded['a'], loaded['b'], loaded['c']"
   ]
  },
  {
   "cell_type": "code",
   "execution_count": 38,
   "metadata": {},
   "outputs": [
    {
     "data": {
      "text/plain": [
       "array([[51.60878 , 73.58203 , 83.20948 , ..., 43.260704, 40.342197,\n",
       "        33.994606],\n",
       "       [44.85154 , 47.15692 , 46.413765, ..., 40.10278 , 39.20425 ,\n",
       "        38.602734]], dtype=float32)"
      ]
     },
     "execution_count": 38,
     "metadata": {},
     "output_type": "execute_result"
    }
   ],
   "source": []
  },
  {
   "cell_type": "code",
   "execution_count": 24,
   "metadata": {},
   "outputs": [
    {
     "data": {
      "text/plain": [
       "array(['10672', '10940', '10361', '10719', '11112', '10356', '11106',\n",
       "       '11030', '10340', '10570', '10329', '10871', '10746', '10325',\n",
       "       '10987', '10724', '11105', '10492', '10429', '10565', '10977',\n",
       "       '10316', '10460', '10678', '10704', '11143', '11067', '10274',\n",
       "       '10304', '10696', '11098', '10998', '10455', '10629', '10963',\n",
       "       '10345', '11019', '10271', '11108', '10225', '11149', '11050',\n",
       "       '10448', '10680', '11068', '11104', '10388', '10530', '10206',\n",
       "       '10692', '10438', '10228', '10762', '10708', '10235', '10788',\n",
       "       '10527', '10631', '11044', '10844', '10517', '11090', '10377',\n",
       "       '10934', '10575', '10471', '10159', '10189', '10779', '10949',\n",
       "       '11052', '11059', '10280', '11156', '11077', '10975', '10290',\n",
       "       '10557', '11066', '10686', '10891', '10525', '11061', '10321'],\n",
       "      dtype='<U5')"
      ]
     },
     "execution_count": 24,
     "metadata": {},
     "output_type": "execute_result"
    }
   ],
   "source": [
    "random_subj_train"
   ]
  },
  {
   "cell_type": "code",
   "execution_count": 64,
   "metadata": {},
   "outputs": [],
   "source": [
    "# loaded = np.load(output_dir+'test_set.npz')\n",
    "# random_subj_test = loaded['c']\n",
    "# random_subj_test\n",
    "\n",
    "# subj_order = np.concatenate([random_subj_train, random_subj_test])\n",
    "# subj_order\n",
    "\n",
    "# np.save('final_subj_order', subj_order)\n"
   ]
  },
  {
   "cell_type": "code",
   "execution_count": 21,
   "metadata": {},
   "outputs": [
    {
     "name": "stdout",
     "output_type": "stream",
     "text": [
      "(84,)\n",
      "(84, 1899247)\n"
     ]
    }
   ],
   "source": [
    "print(y_train.shape)\n",
    "print(X_train.shape)"
   ]
  },
  {
   "cell_type": "code",
   "execution_count": 22,
   "metadata": {
    "collapsed": true
   },
   "outputs": [],
   "source": [
    "X_train, X_validation, y_train, y_validation = train_test_split(X_train, y_train, test_size=0.30, random_state=42)"
   ]
  },
  {
   "cell_type": "markdown",
   "metadata": {},
   "source": [
    "## Validation \n",
    "\n",
    "Grid search returned the best parameters:\n",
    "\n",
    "* ANOVA k selection: 5000\n",
    "* C parameter of SVR: 0.01\n"
   ]
  },
  {
   "cell_type": "code",
   "execution_count": 69,
   "metadata": {},
   "outputs": [],
   "source": [
    "from sklearn.pipeline import Pipeline\n",
    "\n",
    "toy=True\n",
    "if toy:\n",
    "    X_train = X_train[:8]\n",
    "    y_train = y_train[:8]\n",
    "    X_validation = X_validation[:8]\n",
    "    y_validation = y_validation[:8]\n",
    "\n",
    "\n",
    "# Remove features with too low between-subject variance\n",
    "# Here we use a classical univariate feature selection based on F-test,\n",
    "# namely Anova.\n",
    "# We have our predictor (SVR), our feature selection (SelectKBest), and now,\n",
    "# we can plug them together in a *pipeline* that performs the two operations\n",
    "# successively:\n",
    "               \n",
    "anova_svr = Pipeline([\n",
    "            ('anova', SelectKBest(f_regression, k=5000)),\n",
    "            ('svr', SVR(kernel='linear', C=0.01))])\n",
    "\n",
    "# parameters = [{'anova__k': [2000],\n",
    "#                'svr__C': [0.1,1]}]\n",
    "\n",
    "\n",
    "anova_svr.fit(X_train, y_train)\n",
    "predictions = anova_svr.predict(X_validation)\n",
    "\n",
    "# clf = SVR(kernel='linear', C=0.01)\n",
    "# clf.fit(X_train, y_train)\n",
    "# predictions = clf.predict(X_validation)\n",
    "\n",
    "\n",
    "\n",
    "score = mean_absolute_error(y_validation, predictions)\n",
    "r2 = r2_score(y_validation, predictions)\n",
    "# mean_scores = np.array(grid.cv_results_['neg_mean_absolute_error'])\n",
    "# mean_scores = mean_scores.reshape(len(C_OPTIONS), -1, len(N_FEATURES_OPTIONS))\n",
    "# # select score for best C\n",
    "# mean_scores = mean_scores.max(axis=0)\n",
    "# bar_offsets = (np.arange(len(N_FEATURES_OPTIONS)) *\n",
    "#                (len(reducer_labels) + 1) + .5)\n",
    "\n",
    "\n",
    "\n",
    "\n"
   ]
  },
  {
   "cell_type": "code",
   "execution_count": 70,
   "metadata": {},
   "outputs": [
    {
     "name": "stdout",
     "output_type": "stream",
     "text": [
      "5.516526634116861\n",
      "[28.28407341 28.8998851  35.5416655  28.90332036 27.42821537 29.41925641\n",
      " 30.0392139  45.30632493]\n",
      "[25 29 40 40 23 26 22 36]\n"
     ]
    }
   ],
   "source": [
    "print(score)\n",
    "print(predictions)\n",
    "print(y_validation)"
   ]
  },
  {
   "cell_type": "code",
   "execution_count": 32,
   "metadata": {},
   "outputs": [
    {
     "ename": "NameError",
     "evalue": "name 'grid' is not defined",
     "output_type": "error",
     "traceback": [
      "\u001b[0;31m---------------------------------------------------------------------------\u001b[0m",
      "\u001b[0;31mNameError\u001b[0m                                 Traceback (most recent call last)",
      "\u001b[0;32m<ipython-input-32-3fa6f35c0113>\u001b[0m in \u001b[0;36m<module>\u001b[0;34m()\u001b[0m\n\u001b[0;32m----> 1\u001b[0;31m \u001b[0mprint\u001b[0m\u001b[0;34m(\u001b[0m\u001b[0;34m'best score: '\u001b[0m\u001b[0;34m,\u001b[0m\u001b[0mgrid\u001b[0m\u001b[0;34m.\u001b[0m\u001b[0mbest_score_\u001b[0m\u001b[0;34m)\u001b[0m\u001b[0;34m\u001b[0m\u001b[0m\n\u001b[0m\u001b[1;32m      2\u001b[0m \u001b[0mprint\u001b[0m\u001b[0;34m(\u001b[0m\u001b[0;34m'best params: '\u001b[0m\u001b[0;34m,\u001b[0m\u001b[0mgrid\u001b[0m\u001b[0;34m.\u001b[0m\u001b[0mbest_params_\u001b[0m\u001b[0;34m)\u001b[0m\u001b[0;34m\u001b[0m\u001b[0m\n\u001b[1;32m      3\u001b[0m \u001b[0mprint\u001b[0m\u001b[0;34m(\u001b[0m\u001b[0;34m'\\n\\nfullresults: \\n'\u001b[0m\u001b[0;34m,\u001b[0m \u001b[0mgrid\u001b[0m\u001b[0;34m.\u001b[0m\u001b[0mcv_results_\u001b[0m\u001b[0;34m)\u001b[0m\u001b[0;34m\u001b[0m\u001b[0m\n\u001b[1;32m      4\u001b[0m \u001b[0mdf1\u001b[0m \u001b[0;34m=\u001b[0m \u001b[0mpd\u001b[0m\u001b[0;34m.\u001b[0m\u001b[0mDataFrame\u001b[0m\u001b[0;34m(\u001b[0m\u001b[0mgrid\u001b[0m\u001b[0;34m.\u001b[0m\u001b[0mcv_results_\u001b[0m\u001b[0;34m)\u001b[0m\u001b[0;34m\u001b[0m\u001b[0m\n\u001b[1;32m      5\u001b[0m \u001b[0mdf1\u001b[0m\u001b[0;34m\u001b[0m\u001b[0m\n",
      "\u001b[0;31mNameError\u001b[0m: name 'grid' is not defined"
     ]
    }
   ],
   "source": [
    "print('best score: ',grid.best_score_)\n",
    "print('best params: ',grid.best_params_)\n",
    "print('\\n\\nfullresults: \\n', grid.cv_results_)\n",
    "df1 = pd.DataFrame(grid.cv_results_)\n",
    "df1"
   ]
  },
  {
   "cell_type": "code",
   "execution_count": null,
   "metadata": {},
   "outputs": [],
   "source": [
    "age_pred = grid.predict(X_train)\n",
    "mean_abs_error = np.mean(np.abs(age_pred-y_train))\n",
    "df1 = pd.DataFrame(grid.cv_results_)\n",
    "\n",
    "with open(output_dir+'log_'+log_file+'.txt', '+a') as f:\n",
    "    f.write('mean absolute error: '+str(score.round(4))+'\\n')\n",
    "    f.write('r2: '+str(r2.round(4))+'\\n')\n",
    "    f.write(str(predictions)+'\\n')\n",
    "#     f.write('\\n\\nfullresults: \\n'+str(grid.cv_results_)+'\\n')\n",
    "#     f.write(str(df1)+'\\n')\n",
    "#     f.write(str(age_pred)+'\\n')\n",
    "#     f.write(str(y_train)+'\\n')\n",
    "#     f.write(str(mean_abs_error)+'\\n')\n",
    "    "
   ]
  },
  {
   "cell_type": "code",
   "execution_count": null,
   "metadata": {
    "collapsed": true
   },
   "outputs": [],
   "source": []
  },
  {
   "cell_type": "code",
   "execution_count": null,
   "metadata": {
    "collapsed": true
   },
   "outputs": [],
   "source": [
    "# age_pred = grid.predict(gm_maps_masked)\n",
    "# np.mean(np.abs(age_pred-y_age))\n",
    "# y_age"
   ]
  },
  {
   "cell_type": "code",
   "execution_count": null,
   "metadata": {
    "collapsed": true
   },
   "outputs": [],
   "source": [
    "# r2 score"
   ]
  }
 ],
 "metadata": {
  "kernelspec": {
   "display_name": "Python 3",
   "language": "python",
   "name": "python3"
  },
  "language_info": {
   "codemirror_mode": {
    "name": "ipython",
    "version": 3
   },
   "file_extension": ".py",
   "mimetype": "text/x-python",
   "name": "python",
   "nbconvert_exporter": "python",
   "pygments_lexer": "ipython3",
   "version": "3.6.0"
  }
 },
 "nbformat": 4,
 "nbformat_minor": 2
}
