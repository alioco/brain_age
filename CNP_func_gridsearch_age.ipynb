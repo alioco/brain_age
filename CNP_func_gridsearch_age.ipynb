{
 "cells": [
  {
   "cell_type": "markdown",
   "metadata": {},
   "source": [
    "# CNP_func_gridsearch_age.ipynb"
   ]
  },
  {
   "cell_type": "code",
   "execution_count": 2,
   "metadata": {},
   "outputs": [
    {
     "name": "stderr",
     "output_type": "stream",
     "text": [
      "/Library/Frameworks/Python.framework/Versions/3.6/lib/python3.6/importlib/_bootstrap.py:205: RuntimeWarning: numpy.dtype size changed, may indicate binary incompatibility. Expected 96, got 88\n",
      "  return f(*args, **kwds)\n",
      "/Library/Frameworks/Python.framework/Versions/3.6/lib/python3.6/site-packages/h5py/__init__.py:36: FutureWarning: Conversion of the second argument of issubdtype from `float` to `np.floating` is deprecated. In future, it will be treated as `np.float64 == np.dtype(float).type`.\n",
      "  from ._conv import register_converters as _register_converters\n"
     ]
    }
   ],
   "source": [
    "import pandas as pd\n",
    "import numpy as np\n",
    "import nibabel as nib\n",
    "from sklearn.model_selection import KFold\n",
    "from sklearn.svm import LinearSVR\n",
    "# from sklearn.linear_model import LinearRegression\n",
    "from sklearn.feature_selection import VarianceThreshold, SelectKBest, f_regression\n",
    "import os\n",
    "from sklearn.model_selection import train_test_split\n",
    "from sklearn.model_selection import GridSearchCV\n",
    "from sklearn.metrics import mean_absolute_error\n",
    "from nilearn.input_data import NiftiMasker\n",
    "import random\n",
    "import matplotlib.pyplot as plt\n",
    "import datetime"
   ]
  },
  {
   "cell_type": "code",
   "execution_count": 5,
   "metadata": {
    "collapsed": true
   },
   "outputs": [],
   "source": [
    "# Parameters\n",
    "# Config\n",
    "toy = False\n",
    "run_all = False\n",
    "\n",
    "path = '/home/ubuntu/fmriprep/'\n",
    "\n",
    "#AWS cloud\n",
    "input_dir = '/output/' #AWS cloud\n",
    "output_dir = '/output/' \n",
    "\n",
    "#For Daniel's computer\n",
    "# input_dir = 'data/CNP_func/' \n",
    "# output_dir = '/output/' \n",
    "\n",
    "n_jobs = 20 #amount of cores\n",
    "cv=4\n",
    "\n",
    "description = 'CNP_func_gridsearch_age_first'\n",
    "log_file = description+datetime.datetime.now().strftime(\"%y-%m-%d-%H-%M-%S\")"
   ]
  },
  {
   "cell_type": "code",
   "execution_count": 6,
   "metadata": {},
   "outputs": [],
   "source": [
    "loaded = np.load(input_dir+'CNP_func_gridsearch_age_18-08-09-22-05-36CNP_func197_train_set.npz')\n",
    "X_train, y_train, random_subj_train = loaded['a'], loaded['b'], loaded['c']\n"
   ]
  },
  {
   "cell_type": "code",
   "execution_count": 14,
   "metadata": {},
   "outputs": [
    {
     "name": "stdout",
     "output_type": "stream",
     "text": [
      "[29 25 42 23 29 43 27 40 32 32 22 41 23 29 26 22 27 22 36 25 47 29 40 24\n",
      " 32 28 23 43 23 25 39 49 25 31 45 25 47 41 21 35 32 48 37 22 39 21 50 23\n",
      " 21 28 25 40 41 25 22 35 24 21 40 26 21 24 49 37 23 30 30 49 38 27 26 22\n",
      " 27 25 22 32 48 26 37 26 21 24 45 34]\n",
      "(84, 19306)\n",
      "(84, 19306)\n"
     ]
    }
   ],
   "source": [
    "print(y_train)\n",
    "print(X_train.shape)\n",
    "X_train = np.reshape(X_train, (84, 19306))"
   ]
  },
  {
   "cell_type": "markdown",
   "metadata": {},
   "source": [
    "## Gridsearch \n",
    "### Models\n",
    "* Linear Support vector regressor\n",
    "    * C = 0.0001, 0.001, 0.1, 1.0, 10.0\n",
    "\n",
    "### Feature selection\n",
    "* ANOVA\n",
    "    * 5k features\n",
    "    * 100k features\n",
    "    * Use all features (~1.9m)"
   ]
  },
  {
   "cell_type": "code",
   "execution_count": null,
   "metadata": {},
   "outputs": [],
   "source": [
    "from sklearn.pipeline import Pipeline\n",
    "\n",
    "if toy:\n",
    "    X_train = X_train[:4]\n",
    "    y_train = y_train[:4]\n",
    "\n",
    "\n",
    "# Remove features with too low between-subject variance\n",
    "# variance_threshold = \n",
    "\n",
    "# Here we use a classical univariate feature selection based on F-test,\n",
    "# namely Anova.\n",
    "# feature_selection = SelectKBest(f_regression)\n",
    "\n",
    "# We have our predictor (SVR), our feature selection (SelectKBest), and now,\n",
    "# we can plug them together in a *pipeline* that performs the two operations\n",
    "# successively:\n",
    "               \n",
    "            \n",
    "anova_svr = Pipeline([\n",
    "    ('anova', SelectKBest(f_regression)),\n",
    "    ('svr', LinearSVR())])\n",
    "\n",
    "parameters = [{'anova__k': [5000,100000, 'all'],\n",
    "               'svr__C': [0.01, 1, 10]}]\n",
    "\n",
    "if toy: \n",
    "    parameters = [{'anova__k': [5000],'svr__C': [0.00001, 0.0001]}]\n",
    "\n",
    "\n",
    "grid = GridSearchCV(anova_svr, cv=cv, n_jobs=n_jobs, param_grid=parameters, scoring='neg_mean_absolute_error')\n",
    "grid.fit(X_train, y_train)\n",
    "\n",
    "# mean_scores = np.array(grid.cv_results_['neg_mean_absolute_error'])\n",
    "# mean_scores = mean_scores.reshape(len(C_OPTIONS), -1, len(N_FEATURES_OPTIONS))\n",
    "# # select score for best C\n",
    "# mean_scores = mean_scores.max(axis=0)\n",
    "# bar_offsets = (np.arange(len(N_FEATURES_OPTIONS)) *\n",
    "#                (len(reducer_labels) + 1) + .5)\n",
    "\n",
    "\n",
    "\n",
    "\n"
   ]
  },
  {
   "cell_type": "code",
   "execution_count": 16,
   "metadata": {},
   "outputs": [
    {
     "name": "stdout",
     "output_type": "stream",
     "text": [
      "best score:  -31.737217385471077\n",
      "best params:  {'anova__k': 5000, 'svr__C': 0.0001}\n",
      "\n",
      "\n",
      "fullresults: \n",
      " {'mean_fit_time': array([0.07416397, 0.07875931]), 'std_fit_time': array([0.03190736, 0.02399158]), 'mean_score_time': array([0.014516  , 0.00965482]), 'std_score_time': array([0.00588046, 0.0037135 ]), 'param_anova__k': masked_array(data=[5000, 5000],\n",
      "             mask=[False, False],\n",
      "       fill_value='?',\n",
      "            dtype=object), 'param_svr__C': masked_array(data=[1e-05, 0.0001],\n",
      "             mask=[False, False],\n",
      "       fill_value='?',\n",
      "            dtype=object), 'params': [{'anova__k': 5000, 'svr__C': 1e-05}, {'anova__k': 5000, 'svr__C': 0.0001}], 'split0_test_score': array([-26.94593473, -26.45934728]), 'split1_test_score': array([-32.450394  , -32.00393998]), 'split2_test_score': array([-35.93470856, -35.3470856 ]), 'split3_test_score': array([-33.46384967, -33.13849669]), 'mean_test_score': array([-32.19872174, -31.73721739]), 'std_test_score': array([3.28683953, 3.27573602]), 'rank_test_score': array([2, 1], dtype=int32), 'split0_train_score': array([-33.9383544 , -33.38354399]), 'split1_train_score': array([-32.11690482, -31.66904816]), 'split2_train_score': array([-30.94661061, -30.46610608]), 'split3_train_score': array([-31.7728311 , -31.22831103]), 'mean_train_score': array([-32.19367523, -31.68675231]), 'std_train_score': array([1.09339826, 1.06999545])}\n"
     ]
    },
    {
     "name": "stderr",
     "output_type": "stream",
     "text": [
      "/Library/Frameworks/Python.framework/Versions/3.6/lib/python3.6/site-packages/sklearn/utils/deprecation.py:122: FutureWarning: You are accessing a training score ('split0_train_score'), which will not be available by default any more in 0.21. If you need training scores, please set return_train_score=True\n",
      "  warnings.warn(*warn_args, **warn_kwargs)\n",
      "/Library/Frameworks/Python.framework/Versions/3.6/lib/python3.6/site-packages/sklearn/utils/deprecation.py:122: FutureWarning: You are accessing a training score ('split1_train_score'), which will not be available by default any more in 0.21. If you need training scores, please set return_train_score=True\n",
      "  warnings.warn(*warn_args, **warn_kwargs)\n",
      "/Library/Frameworks/Python.framework/Versions/3.6/lib/python3.6/site-packages/sklearn/utils/deprecation.py:122: FutureWarning: You are accessing a training score ('split2_train_score'), which will not be available by default any more in 0.21. If you need training scores, please set return_train_score=True\n",
      "  warnings.warn(*warn_args, **warn_kwargs)\n",
      "/Library/Frameworks/Python.framework/Versions/3.6/lib/python3.6/site-packages/sklearn/utils/deprecation.py:122: FutureWarning: You are accessing a training score ('split3_train_score'), which will not be available by default any more in 0.21. If you need training scores, please set return_train_score=True\n",
      "  warnings.warn(*warn_args, **warn_kwargs)\n",
      "/Library/Frameworks/Python.framework/Versions/3.6/lib/python3.6/site-packages/sklearn/utils/deprecation.py:122: FutureWarning: You are accessing a training score ('mean_train_score'), which will not be available by default any more in 0.21. If you need training scores, please set return_train_score=True\n",
      "  warnings.warn(*warn_args, **warn_kwargs)\n",
      "/Library/Frameworks/Python.framework/Versions/3.6/lib/python3.6/site-packages/sklearn/utils/deprecation.py:122: FutureWarning: You are accessing a training score ('std_train_score'), which will not be available by default any more in 0.21. If you need training scores, please set return_train_score=True\n",
      "  warnings.warn(*warn_args, **warn_kwargs)\n"
     ]
    },
    {
     "data": {
      "text/html": [
       "<div>\n",
       "<style scoped>\n",
       "    .dataframe tbody tr th:only-of-type {\n",
       "        vertical-align: middle;\n",
       "    }\n",
       "\n",
       "    .dataframe tbody tr th {\n",
       "        vertical-align: top;\n",
       "    }\n",
       "\n",
       "    .dataframe thead th {\n",
       "        text-align: right;\n",
       "    }\n",
       "</style>\n",
       "<table border=\"1\" class=\"dataframe\">\n",
       "  <thead>\n",
       "    <tr style=\"text-align: right;\">\n",
       "      <th></th>\n",
       "      <th>mean_fit_time</th>\n",
       "      <th>std_fit_time</th>\n",
       "      <th>mean_score_time</th>\n",
       "      <th>std_score_time</th>\n",
       "      <th>param_anova__k</th>\n",
       "      <th>param_svr__C</th>\n",
       "      <th>params</th>\n",
       "      <th>split0_test_score</th>\n",
       "      <th>split1_test_score</th>\n",
       "      <th>split2_test_score</th>\n",
       "      <th>split3_test_score</th>\n",
       "      <th>mean_test_score</th>\n",
       "      <th>std_test_score</th>\n",
       "      <th>rank_test_score</th>\n",
       "      <th>split0_train_score</th>\n",
       "      <th>split1_train_score</th>\n",
       "      <th>split2_train_score</th>\n",
       "      <th>split3_train_score</th>\n",
       "      <th>mean_train_score</th>\n",
       "      <th>std_train_score</th>\n",
       "    </tr>\n",
       "  </thead>\n",
       "  <tbody>\n",
       "    <tr>\n",
       "      <th>0</th>\n",
       "      <td>0.074164</td>\n",
       "      <td>0.031907</td>\n",
       "      <td>0.014516</td>\n",
       "      <td>0.005880</td>\n",
       "      <td>5000</td>\n",
       "      <td>1e-05</td>\n",
       "      <td>{'anova__k': 5000, 'svr__C': 1e-05}</td>\n",
       "      <td>-26.945935</td>\n",
       "      <td>-32.450394</td>\n",
       "      <td>-35.934709</td>\n",
       "      <td>-33.463850</td>\n",
       "      <td>-32.198722</td>\n",
       "      <td>3.286840</td>\n",
       "      <td>2</td>\n",
       "      <td>-33.938354</td>\n",
       "      <td>-32.116905</td>\n",
       "      <td>-30.946611</td>\n",
       "      <td>-31.772831</td>\n",
       "      <td>-32.193675</td>\n",
       "      <td>1.093398</td>\n",
       "    </tr>\n",
       "    <tr>\n",
       "      <th>1</th>\n",
       "      <td>0.078759</td>\n",
       "      <td>0.023992</td>\n",
       "      <td>0.009655</td>\n",
       "      <td>0.003713</td>\n",
       "      <td>5000</td>\n",
       "      <td>0.0001</td>\n",
       "      <td>{'anova__k': 5000, 'svr__C': 0.0001}</td>\n",
       "      <td>-26.459347</td>\n",
       "      <td>-32.003940</td>\n",
       "      <td>-35.347086</td>\n",
       "      <td>-33.138497</td>\n",
       "      <td>-31.737217</td>\n",
       "      <td>3.275736</td>\n",
       "      <td>1</td>\n",
       "      <td>-33.383544</td>\n",
       "      <td>-31.669048</td>\n",
       "      <td>-30.466106</td>\n",
       "      <td>-31.228311</td>\n",
       "      <td>-31.686752</td>\n",
       "      <td>1.069995</td>\n",
       "    </tr>\n",
       "  </tbody>\n",
       "</table>\n",
       "</div>"
      ],
      "text/plain": [
       "   mean_fit_time  std_fit_time  mean_score_time  std_score_time  \\\n",
       "0       0.074164      0.031907         0.014516        0.005880   \n",
       "1       0.078759      0.023992         0.009655        0.003713   \n",
       "\n",
       "  param_anova__k param_svr__C                                params  \\\n",
       "0           5000        1e-05   {'anova__k': 5000, 'svr__C': 1e-05}   \n",
       "1           5000       0.0001  {'anova__k': 5000, 'svr__C': 0.0001}   \n",
       "\n",
       "   split0_test_score  split1_test_score  split2_test_score  split3_test_score  \\\n",
       "0         -26.945935         -32.450394         -35.934709         -33.463850   \n",
       "1         -26.459347         -32.003940         -35.347086         -33.138497   \n",
       "\n",
       "   mean_test_score  std_test_score  rank_test_score  split0_train_score  \\\n",
       "0       -32.198722        3.286840                2          -33.938354   \n",
       "1       -31.737217        3.275736                1          -33.383544   \n",
       "\n",
       "   split1_train_score  split2_train_score  split3_train_score  \\\n",
       "0          -32.116905          -30.946611          -31.772831   \n",
       "1          -31.669048          -30.466106          -31.228311   \n",
       "\n",
       "   mean_train_score  std_train_score  \n",
       "0        -32.193675         1.093398  \n",
       "1        -31.686752         1.069995  "
      ]
     },
     "execution_count": 16,
     "metadata": {},
     "output_type": "execute_result"
    }
   ],
   "source": [
    "print('best score: ',grid.best_score_)\n",
    "print('best params: ',grid.best_params_)\n",
    "print('\\n\\nfullresults: \\n', grid.cv_results_)\n",
    "df1 = pd.DataFrame(grid.cv_results_)\n",
    "df1"
   ]
  },
  {
   "cell_type": "code",
   "execution_count": 30,
   "metadata": {},
   "outputs": [
    {
     "name": "stderr",
     "output_type": "stream",
     "text": [
      "/Library/Frameworks/Python.framework/Versions/3.6/lib/python3.6/site-packages/sklearn/utils/deprecation.py:122: FutureWarning: You are accessing a training score ('split0_train_score'), which will not be available by default any more in 0.21. If you need training scores, please set return_train_score=True\n",
      "  warnings.warn(*warn_args, **warn_kwargs)\n",
      "/Library/Frameworks/Python.framework/Versions/3.6/lib/python3.6/site-packages/sklearn/utils/deprecation.py:122: FutureWarning: You are accessing a training score ('split1_train_score'), which will not be available by default any more in 0.21. If you need training scores, please set return_train_score=True\n",
      "  warnings.warn(*warn_args, **warn_kwargs)\n",
      "/Library/Frameworks/Python.framework/Versions/3.6/lib/python3.6/site-packages/sklearn/utils/deprecation.py:122: FutureWarning: You are accessing a training score ('split2_train_score'), which will not be available by default any more in 0.21. If you need training scores, please set return_train_score=True\n",
      "  warnings.warn(*warn_args, **warn_kwargs)\n",
      "/Library/Frameworks/Python.framework/Versions/3.6/lib/python3.6/site-packages/sklearn/utils/deprecation.py:122: FutureWarning: You are accessing a training score ('split3_train_score'), which will not be available by default any more in 0.21. If you need training scores, please set return_train_score=True\n",
      "  warnings.warn(*warn_args, **warn_kwargs)\n",
      "/Library/Frameworks/Python.framework/Versions/3.6/lib/python3.6/site-packages/sklearn/utils/deprecation.py:122: FutureWarning: You are accessing a training score ('mean_train_score'), which will not be available by default any more in 0.21. If you need training scores, please set return_train_score=True\n",
      "  warnings.warn(*warn_args, **warn_kwargs)\n",
      "/Library/Frameworks/Python.framework/Versions/3.6/lib/python3.6/site-packages/sklearn/utils/deprecation.py:122: FutureWarning: You are accessing a training score ('std_train_score'), which will not be available by default any more in 0.21. If you need training scores, please set return_train_score=True\n",
      "  warnings.warn(*warn_args, **warn_kwargs)\n"
     ]
    }
   ],
   "source": [
    "age_pred = grid.predict(X_train)\n",
    "mean_abs_error = np.mean(np.abs(age_pred-y_train))\n",
    "df1 = pd.DataFrame(grid.cv_results_)\n",
    "\n",
    "with open(output_dir+'log_'+log_file+'.txt', '+a') as f:\n",
    "    f.write('best score: '+str(grid.best_score_))\n",
    "    f.write('best params: '+str(grid.best_params_))\n",
    "    f.write('\\n\\nfullresults: \\n'+str(grid.cv_results_)+'\\n')\n",
    "    f.write(str(df1)+'\\n')\n",
    "    f.write(str(age_pred)+'\\n')\n",
    "    f.write(str(y_train)+'\\n')\n",
    "    f.write(str(mean_abs_error)+'\\n')\n",
    "    "
   ]
  },
  {
   "cell_type": "code",
   "execution_count": 19,
   "metadata": {
    "collapsed": true
   },
   "outputs": [],
   "source": []
  }
 ],
 "metadata": {
  "kernelspec": {
   "display_name": "Python 3",
   "language": "python",
   "name": "python3"
  },
  "language_info": {
   "codemirror_mode": {
    "name": "ipython",
    "version": 3
   },
   "file_extension": ".py",
   "mimetype": "text/x-python",
   "name": "python",
   "nbconvert_exporter": "python",
   "pygments_lexer": "ipython3",
   "version": "3.6.0"
  }
 },
 "nbformat": 4,
 "nbformat_minor": 2
}
