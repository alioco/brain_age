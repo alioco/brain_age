{
 "cells": [
  {
   "cell_type": "markdown",
   "metadata": {},
   "source": [
    "# BrainAge Project"
   ]
  },
  {
   "cell_type": "code",
   "execution_count": 136,
   "metadata": {},
   "outputs": [],
   "source": [
    "import pandas as pd\n",
    "import numpy as np\n",
    "import nibabel as nib\n",
    "from sklearn.model_selection import KFold\n",
    "from sklearn.svm import SVR\n",
    "# from sklearn.linear_model import LinearRegression\n",
    "from sklearn.feature_selection import VarianceThreshold, SelectKBest, f_regression\n",
    "import os\n",
    "from sklearn.model_selection import train_test_split\n",
    "from sklearn.model_selection import GridSearchCV\n",
    "from sklearn.metrics import mean_absolute_error\n",
    "from nilearn.input_data import NiftiMasker"
   ]
  },
  {
   "cell_type": "code",
   "execution_count": 122,
   "metadata": {
    "collapsed": true
   },
   "outputs": [],
   "source": [
    "# Parameters\n",
    "path = './drsulliv3/data/'\n",
    "n_jobs = 8 #amount of cores\n",
    "cv=5"
   ]
  },
  {
   "cell_type": "code",
   "execution_count": 114,
   "metadata": {
    "collapsed": true
   },
   "outputs": [],
   "source": [
    "# Load subject ids\n",
    "files = os.listdir(path)\n",
    "subj = [n[4:9] for n in files if n.startswith('sub')] #here we will filter the file names to leave only subj number as bellow"
   ]
  },
  {
   "cell_type": "code",
   "execution_count": 115,
   "metadata": {},
   "outputs": [
    {
     "data": {
      "text/plain": [
       "['10159',\n",
       " '10171',\n",
       " '10189',\n",
       " '10193',\n",
       " '10206',\n",
       " '10217',\n",
       " '10225',\n",
       " '10227',\n",
       " '10228',\n",
       " '10235']"
      ]
     },
     "execution_count": 115,
     "metadata": {},
     "output_type": "execute_result"
    }
   ],
   "source": [
    "subjects"
   ]
  },
  {
   "cell_type": "code",
   "execution_count": 137,
   "metadata": {},
   "outputs": [],
   "source": [
    "# Load ages\n",
    "df = pd.read_csv('participants.tsv', sep='\\t')\n",
    "\n",
    "# take age from subj id\n",
    "y_age = []\n",
    "for i in subj:\n",
    "    a = df.loc[df['participant_id'] == 'sub-'+i] #whole row\n",
    "    y_age.append(int(a.age))\n",
    "\n",
    "\n",
    "# # Load IQ\n",
    "# df = pd.read_csv('add file here', sep='\\t')\n",
    "\n",
    "# # take age from subj id\n",
    "# y_age = []\n",
    "# for i in subj:\n",
    "#     a = df.loc[df['participant_id'] == 'sub-'+i] #whole row\n",
    "#     y_iq.append(int(a.id))\n"
   ]
  },
  {
   "cell_type": "code",
   "execution_count": 10,
   "metadata": {
    "collapsed": true
   },
   "outputs": [],
   "source": [
    "# # Load volumes for each subject into a dictionary\n",
    "# d = {}\n",
    "# for i in range(len(subj)):\n",
    "#     img = nib.load(path+'sub-'+subj[i]+'_T1w_space_MNI152NLin2009cAsym_preproc.nii.gz').get_fdata()\n",
    "#     d[subj[i]] = img\n",
    "\n",
    "# filenames = []\n",
    "# data = []\n",
    "# for i in range(len(subj)):\n",
    "#     img = nib.load(path+'sub-'+subj[i]+'_T1w_space_MNI152NLin2009cAsym_preproc.nii.gz').get_fdata()\n",
    "#     data.append(img)\n",
    "#     filenames.append('sub-'+subj[i]+'_T1w_space_MNI152NLin2009cAsym_preproc.nii.gz')\n",
    "\n",
    "# data  = np.array(data) \n",
    "\n",
    "## Let's see the size of a single volume\n",
    "# data.shape\n",
    "\n",
    "# # Flatten 3D volume and append to a list (or feed 3D volume to nilearn)\n",
    "# X = []\n",
    "\n",
    "# for i in d.values():\n",
    "#     flattened = i.flatten()\n",
    "#     X.append(flattened)\n",
    "    \n",
    "# # Turn list into array \n",
    "# X = np.array(X)"
   ]
  },
  {
   "cell_type": "code",
   "execution_count": 125,
   "metadata": {},
   "outputs": [
    {
     "data": {
      "text/plain": [
       "['sub-10159_T1w_space_MNI152NLin2009cAsym_preproc.nii.gz',\n",
       " 'sub-10171_T1w_space_MNI152NLin2009cAsym_preproc.nii.gz',\n",
       " 'sub-10189_T1w_space_MNI152NLin2009cAsym_preproc.nii.gz',\n",
       " 'sub-10193_T1w_space_MNI152NLin2009cAsym_preproc.nii.gz',\n",
       " 'sub-10206_T1w_space_MNI152NLin2009cAsym_preproc.nii.gz',\n",
       " 'sub-10217_T1w_space_MNI152NLin2009cAsym_preproc.nii.gz',\n",
       " 'sub-10225_T1w_space_MNI152NLin2009cAsym_preproc.nii.gz',\n",
       " 'sub-10227_T1w_space_MNI152NLin2009cAsym_preproc.nii.gz',\n",
       " 'sub-10228_T1w_space_MNI152NLin2009cAsym_preproc.nii.gz',\n",
       " 'sub-10235_T1w_space_MNI152NLin2009cAsym_preproc.nii.gz']"
      ]
     },
     "execution_count": 125,
     "metadata": {},
     "output_type": "execute_result"
    }
   ],
   "source": [
    "filenames"
   ]
  },
  {
   "cell_type": "code",
   "execution_count": 126,
   "metadata": {},
   "outputs": [],
   "source": [
    "# Affine resample\n",
    "\n",
    "# from nilearn.image import resample_to_img\n",
    "# # img = data.affine\n",
    "\n",
    "# resampled_imgs = []\n",
    "# resampled_imgs.append(nib.load(path+filenames[0]))\n",
    "                      \n",
    "# for i in range(1,len(filenames)):\n",
    "#     resampled_img = resample_to_img(path+filenames[i], path+filenames[0])\n",
    "#     resampled_imgs.append(resampled_img)\n",
    "\n",
    "# for i in resampled_imgs:\n",
    "#     print(i.affine)"
   ]
  },
  {
   "cell_type": "code",
   "execution_count": 128,
   "metadata": {},
   "outputs": [
    {
     "data": {
      "text/plain": [
       "['sub-10159_T1w_space_MNI152NLin2009cAsym_preproc.nii.gz',\n",
       " 'sub-10171_T1w_space_MNI152NLin2009cAsym_preproc.nii.gz',\n",
       " 'sub-10189_T1w_space_MNI152NLin2009cAsym_preproc.nii.gz',\n",
       " 'sub-10193_T1w_space_MNI152NLin2009cAsym_preproc.nii.gz',\n",
       " 'sub-10206_T1w_space_MNI152NLin2009cAsym_preproc.nii.gz',\n",
       " 'sub-10217_T1w_space_MNI152NLin2009cAsym_preproc.nii.gz',\n",
       " 'sub-10225_T1w_space_MNI152NLin2009cAsym_preproc.nii.gz',\n",
       " 'sub-10227_T1w_space_MNI152NLin2009cAsym_preproc.nii.gz',\n",
       " 'sub-10228_T1w_space_MNI152NLin2009cAsym_preproc.nii.gz',\n",
       " 'sub-10235_T1w_space_MNI152NLin2009cAsym_preproc.nii.gz']"
      ]
     },
     "execution_count": 128,
     "metadata": {},
     "output_type": "execute_result"
    }
   ],
   "source": [
    "filenames"
   ]
  },
  {
   "cell_type": "code",
   "execution_count": 133,
   "metadata": {},
   "outputs": [
    {
     "name": "stdout",
     "output_type": "stream",
     "text": [
      "4 samples, 1904516 features\n"
     ]
    }
   ],
   "source": [
    "path_and_filenames = [path+n for n in filenames]\n",
    "\n",
    "nifti_masker = NiftiMasker(\n",
    "    standardize=False,\n",
    "    smoothing_fwhm=2, mask_strategy='epi',\n",
    "    memory='nilearn_cache')  # cache options\n",
    "gm_maps_masked = nifti_masker.fit_transform(path_and_filenames)\n",
    "n_samples, n_features = gm_maps_masked.shape\n",
    "print(\"%d samples, %d features\" % (4, n_features))"
   ]
  },
  {
   "cell_type": "code",
   "execution_count": 134,
   "metadata": {},
   "outputs": [
    {
     "data": {
      "text/plain": [
       "<nilearn.plotting.displays.OrthoSlicer at 0x113aa8b00>"
      ]
     },
     "execution_count": 134,
     "metadata": {},
     "output_type": "execute_result"
    },
    {
     "data": {
      "image/png": "[encoded data removed]",
      "text/plain": [
       "<matplotlib.figure.Figure at 0x113e396a0>"
      ]
     },
     "metadata": {},
     "output_type": "display_data"
    }
   ],
   "source": [
    "%matplotlib inline\n",
    "from nilearn import plotting\n",
    "plotting.plot_roi(nifti_masker.mask_img_)\n"
   ]
  },
  {
   "cell_type": "code",
   "execution_count": 21,
   "metadata": {},
   "outputs": [],
   "source": [
    "# Here we split \n",
    "X_train, X_test, y_train, y_test = train_test_split(gm_maps_masked, y_age, test_size=0.31, random_state=42)"
   ]
  },
  {
   "cell_type": "markdown",
   "metadata": {},
   "source": [
    "## Gridsearch \n",
    "### Models\n",
    "* Linear Support vector regressor\n",
    "    * C = 0.1, 1., 10.\n",
    "\n",
    "### Feature selection\n",
    "* ANOVA\n",
    "    * 2000 features\n",
    "    * 50000 features\n",
    "    * Use all features (176*256*256=11534336)"
   ]
  },
  {
   "cell_type": "code",
   "execution_count": 150,
   "metadata": {},
   "outputs": [
    {
     "name": "stderr",
     "output_type": "stream",
     "text": [
      "/Library/Frameworks/Python.framework/Versions/3.6/lib/python3.6/site-packages/sklearn/svm/base.py:194: FutureWarning: The default value of gamma will change from 'auto' to 'scale' in version 0.22 to account better for unscaled features. Set gamma explicitly to 'auto' or 'scale' to avoid this warning.\n",
      "  \"avoid this warning.\", FutureWarning)\n",
      "/Library/Frameworks/Python.framework/Versions/3.6/lib/python3.6/site-packages/sklearn/svm/base.py:194: FutureWarning: The default value of gamma will change from 'auto' to 'scale' in version 0.22 to account better for unscaled features. Set gamma explicitly to 'auto' or 'scale' to avoid this warning.\n",
      "  \"avoid this warning.\", FutureWarning)\n",
      "/Library/Frameworks/Python.framework/Versions/3.6/lib/python3.6/site-packages/sklearn/svm/base.py:194: FutureWarning: The default value of gamma will change from 'auto' to 'scale' in version 0.22 to account better for unscaled features. Set gamma explicitly to 'auto' or 'scale' to avoid this warning.\n",
      "  \"avoid this warning.\", FutureWarning)\n",
      "/Library/Frameworks/Python.framework/Versions/3.6/lib/python3.6/site-packages/sklearn/svm/base.py:194: FutureWarning: The default value of gamma will change from 'auto' to 'scale' in version 0.22 to account better for unscaled features. Set gamma explicitly to 'auto' or 'scale' to avoid this warning.\n",
      "  \"avoid this warning.\", FutureWarning)\n",
      "/Library/Frameworks/Python.framework/Versions/3.6/lib/python3.6/site-packages/sklearn/svm/base.py:194: FutureWarning: The default value of gamma will change from 'auto' to 'scale' in version 0.22 to account better for unscaled features. Set gamma explicitly to 'auto' or 'scale' to avoid this warning.\n",
      "  \"avoid this warning.\", FutureWarning)\n",
      "/Library/Frameworks/Python.framework/Versions/3.6/lib/python3.6/site-packages/sklearn/svm/base.py:194: FutureWarning: The default value of gamma will change from 'auto' to 'scale' in version 0.22 to account better for unscaled features. Set gamma explicitly to 'auto' or 'scale' to avoid this warning.\n",
      "  \"avoid this warning.\", FutureWarning)\n",
      "/Library/Frameworks/Python.framework/Versions/3.6/lib/python3.6/site-packages/sklearn/svm/base.py:194: FutureWarning: The default value of gamma will change from 'auto' to 'scale' in version 0.22 to account better for unscaled features. Set gamma explicitly to 'auto' or 'scale' to avoid this warning.\n",
      "  \"avoid this warning.\", FutureWarning)\n",
      "/Library/Frameworks/Python.framework/Versions/3.6/lib/python3.6/site-packages/sklearn/svm/base.py:194: FutureWarning: The default value of gamma will change from 'auto' to 'scale' in version 0.22 to account better for unscaled features. Set gamma explicitly to 'auto' or 'scale' to avoid this warning.\n",
      "  \"avoid this warning.\", FutureWarning)\n",
      "/Library/Frameworks/Python.framework/Versions/3.6/lib/python3.6/site-packages/sklearn/model_selection/_search.py:718: DeprecationWarning: The default of the `iid` parameter will change from True to False in version 0.22 and will be removed in 0.24. This will change numeric results when test-set sizes are unequal.\n",
      "  DeprecationWarning)\n",
      "/Library/Frameworks/Python.framework/Versions/3.6/lib/python3.6/site-packages/sklearn/svm/base.py:194: FutureWarning: The default value of gamma will change from 'auto' to 'scale' in version 0.22 to account better for unscaled features. Set gamma explicitly to 'auto' or 'scale' to avoid this warning.\n",
      "  \"avoid this warning.\", FutureWarning)\n"
     ]
    },
    {
     "data": {
      "text/plain": [
       "GridSearchCV(cv=4, error_score='raise-deprecating',\n",
       "       estimator=Pipeline(memory=None,\n",
       "     steps=[('variance_threshold', VarianceThreshold(threshold=0.01)), ('anova', SelectKBest(k=10, score_func=<function f_regression at 0x111cfaea0>)), ('svr', SVR(C=1.0, cache_size=200, coef0=0.0, degree=3, epsilon=0.1,\n",
       "  gamma='auto_deprecated', kernel='rbf', max_iter=-1, shrinking=True,\n",
       "  tol=0.001, verbose=False))]),\n",
       "       fit_params=None, iid='warn', n_jobs=8,\n",
       "       param_grid=[{'anova__k': [2000], 'svr__C': [0.1, 1]}],\n",
       "       pre_dispatch='2*n_jobs', refit=True, return_train_score='warn',\n",
       "       scoring='neg_mean_absolute_error', verbose=0)"
      ]
     },
     "execution_count": 150,
     "metadata": {},
     "output_type": "execute_result"
    }
   ],
   "source": [
    "from sklearn.pipeline import Pipeline\n",
    "\n",
    "# Remove features with too low between-subject variance\n",
    "# variance_threshold = \n",
    "\n",
    "# Here we use a classical univariate feature selection based on F-test,\n",
    "# namely Anova.\n",
    "# feature_selection = SelectKBest(f_regression)\n",
    "\n",
    "# We have our predictor (SVR), our feature selection (SelectKBest), and now,\n",
    "# we can plug them together in a *pipeline* that performs the two operations\n",
    "# successively:\n",
    "               \n",
    "               \n",
    "\n",
    "anova_svr = Pipeline([\n",
    "            ('variance_threshold', VarianceThreshold(threshold=.01)),\n",
    "            ('anova', SelectKBest(f_regression)),\n",
    "            ('svr', SVR())])\n",
    "\n",
    "# parameters = [{'anova__k': [2000, 100000, 'all'],\n",
    "#                'svr__C': [0.1, 1, 10]}]\n",
    "\n",
    "parameters = [{'anova__k': [2000],\n",
    "               'svr__C': [0.1,1]}]\n",
    "\n",
    "grid = GridSearchCV(anova_svr, cv=cv, n_jobs=n_jobs, param_grid=parameters, scoring='neg_mean_absolute_error')\n",
    "grid.fit(gm_maps_masked, y_age)\n",
    "\n",
    "\n",
    "\n",
    "# mean_scores = np.array(grid.cv_results_['neg_mean_absolute_error'])\n",
    "# mean_scores = mean_scores.reshape(len(C_OPTIONS), -1, len(N_FEATURES_OPTIONS))\n",
    "# # select score for best C\n",
    "# mean_scores = mean_scores.max(axis=0)\n",
    "# bar_offsets = (np.arange(len(N_FEATURES_OPTIONS)) *\n",
    "#                (len(reducer_labels) + 1) + .5)\n",
    "\n",
    "\n",
    "\n",
    "\n"
   ]
  },
  {
   "cell_type": "code",
   "execution_count": 153,
   "metadata": {},
   "outputs": [
    {
     "name": "stdout",
     "output_type": "stream",
     "text": [
      "best score:  -7.090000000000001\n",
      "best params:  {'anova__k': 2000, 'svr__C': 1}\n",
      "\n",
      "\n",
      "fullresults: \n",
      " {'mean_fit_time': array([11.96528947, 11.9117009 ]), 'std_fit_time': array([0.53389108, 0.42364206]), 'mean_score_time': array([1.82528949, 1.82144833]), 'std_score_time': array([0.08027539, 0.14242572]), 'param_anova__k': masked_array(data=[2000, 2000],\n",
      "             mask=[False, False],\n",
      "       fill_value='?',\n",
      "            dtype=object), 'param_svr__C': masked_array(data=[0.1, 1],\n",
      "             mask=[False, False],\n",
      "       fill_value='?',\n",
      "            dtype=object), 'params': [{'anova__k': 2000, 'svr__C': 0.1}, {'anova__k': 2000, 'svr__C': 1}], 'split0_test_score': array([-9.33333333, -9.33333333]), 'split1_test_score': array([-7.        , -6.96666667]), 'split2_test_score': array([-2., -2.]), 'split3_test_score': array([-9., -9.]), 'mean_test_score': array([-7.1 , -7.09]), 'std_test_score': array([2.72457948, 2.7249893 ]), 'rank_test_score': array([2, 1], dtype=int32), 'split0_train_score': array([-5.77142857, -5.        ]), 'split1_train_score': array([-6.77142857, -6.01428571]), 'split2_train_score': array([-8.025, -7.125]), 'split3_train_score': array([-6.275, -5.4  ]), 'mean_train_score': array([-6.71071429, -5.88482143]), 'std_train_score': array([0.83712869, 0.801992  ])}\n"
     ]
    },
    {
     "name": "stderr",
     "output_type": "stream",
     "text": [
      "/Library/Frameworks/Python.framework/Versions/3.6/lib/python3.6/site-packages/sklearn/utils/deprecation.py:122: FutureWarning: You are accessing a training score ('split0_train_score'), which will not be available by default any more in 0.21. If you need training scores, please set return_train_score=True\n",
      "  warnings.warn(*warn_args, **warn_kwargs)\n",
      "/Library/Frameworks/Python.framework/Versions/3.6/lib/python3.6/site-packages/sklearn/utils/deprecation.py:122: FutureWarning: You are accessing a training score ('split1_train_score'), which will not be available by default any more in 0.21. If you need training scores, please set return_train_score=True\n",
      "  warnings.warn(*warn_args, **warn_kwargs)\n",
      "/Library/Frameworks/Python.framework/Versions/3.6/lib/python3.6/site-packages/sklearn/utils/deprecation.py:122: FutureWarning: You are accessing a training score ('split2_train_score'), which will not be available by default any more in 0.21. If you need training scores, please set return_train_score=True\n",
      "  warnings.warn(*warn_args, **warn_kwargs)\n",
      "/Library/Frameworks/Python.framework/Versions/3.6/lib/python3.6/site-packages/sklearn/utils/deprecation.py:122: FutureWarning: You are accessing a training score ('split3_train_score'), which will not be available by default any more in 0.21. If you need training scores, please set return_train_score=True\n",
      "  warnings.warn(*warn_args, **warn_kwargs)\n",
      "/Library/Frameworks/Python.framework/Versions/3.6/lib/python3.6/site-packages/sklearn/utils/deprecation.py:122: FutureWarning: You are accessing a training score ('mean_train_score'), which will not be available by default any more in 0.21. If you need training scores, please set return_train_score=True\n",
      "  warnings.warn(*warn_args, **warn_kwargs)\n",
      "/Library/Frameworks/Python.framework/Versions/3.6/lib/python3.6/site-packages/sklearn/utils/deprecation.py:122: FutureWarning: You are accessing a training score ('std_train_score'), which will not be available by default any more in 0.21. If you need training scores, please set return_train_score=True\n",
      "  warnings.warn(*warn_args, **warn_kwargs)\n"
     ]
    },
    {
     "data": {
      "text/html": [
       "<div>\n",
       "<style scoped>\n",
       "    .dataframe tbody tr th:only-of-type {\n",
       "        vertical-align: middle;\n",
       "    }\n",
       "\n",
       "    .dataframe tbody tr th {\n",
       "        vertical-align: top;\n",
       "    }\n",
       "\n",
       "    .dataframe thead th {\n",
       "        text-align: right;\n",
       "    }\n",
       "</style>\n",
       "<table border=\"1\" class=\"dataframe\">\n",
       "  <thead>\n",
       "    <tr style=\"text-align: right;\">\n",
       "      <th></th>\n",
       "      <th>mean_fit_time</th>\n",
       "      <th>std_fit_time</th>\n",
       "      <th>mean_score_time</th>\n",
       "      <th>std_score_time</th>\n",
       "      <th>param_anova__k</th>\n",
       "      <th>param_svr__C</th>\n",
       "      <th>params</th>\n",
       "      <th>split0_test_score</th>\n",
       "      <th>split1_test_score</th>\n",
       "      <th>split2_test_score</th>\n",
       "      <th>split3_test_score</th>\n",
       "      <th>mean_test_score</th>\n",
       "      <th>std_test_score</th>\n",
       "      <th>rank_test_score</th>\n",
       "      <th>split0_train_score</th>\n",
       "      <th>split1_train_score</th>\n",
       "      <th>split2_train_score</th>\n",
       "      <th>split3_train_score</th>\n",
       "      <th>mean_train_score</th>\n",
       "      <th>std_train_score</th>\n",
       "    </tr>\n",
       "  </thead>\n",
       "  <tbody>\n",
       "    <tr>\n",
       "      <th>0</th>\n",
       "      <td>11.965289</td>\n",
       "      <td>0.533891</td>\n",
       "      <td>1.825289</td>\n",
       "      <td>0.080275</td>\n",
       "      <td>2000</td>\n",
       "      <td>0.1</td>\n",
       "      <td>{'anova__k': 2000, 'svr__C': 0.1}</td>\n",
       "      <td>-9.333333</td>\n",
       "      <td>-7.000000</td>\n",
       "      <td>-2.0</td>\n",
       "      <td>-9.0</td>\n",
       "      <td>-7.10</td>\n",
       "      <td>2.724579</td>\n",
       "      <td>2</td>\n",
       "      <td>-5.771429</td>\n",
       "      <td>-6.771429</td>\n",
       "      <td>-8.025</td>\n",
       "      <td>-6.275</td>\n",
       "      <td>-6.710714</td>\n",
       "      <td>0.837129</td>\n",
       "    </tr>\n",
       "    <tr>\n",
       "      <th>1</th>\n",
       "      <td>11.911701</td>\n",
       "      <td>0.423642</td>\n",
       "      <td>1.821448</td>\n",
       "      <td>0.142426</td>\n",
       "      <td>2000</td>\n",
       "      <td>1</td>\n",
       "      <td>{'anova__k': 2000, 'svr__C': 1}</td>\n",
       "      <td>-9.333333</td>\n",
       "      <td>-6.966667</td>\n",
       "      <td>-2.0</td>\n",
       "      <td>-9.0</td>\n",
       "      <td>-7.09</td>\n",
       "      <td>2.724989</td>\n",
       "      <td>1</td>\n",
       "      <td>-5.000000</td>\n",
       "      <td>-6.014286</td>\n",
       "      <td>-7.125</td>\n",
       "      <td>-5.400</td>\n",
       "      <td>-5.884821</td>\n",
       "      <td>0.801992</td>\n",
       "    </tr>\n",
       "  </tbody>\n",
       "</table>\n",
       "</div>"
      ],
      "text/plain": [
       "   mean_fit_time  std_fit_time  mean_score_time  std_score_time  \\\n",
       "0      11.965289      0.533891         1.825289        0.080275   \n",
       "1      11.911701      0.423642         1.821448        0.142426   \n",
       "\n",
       "  param_anova__k param_svr__C                             params  \\\n",
       "0           2000          0.1  {'anova__k': 2000, 'svr__C': 0.1}   \n",
       "1           2000            1    {'anova__k': 2000, 'svr__C': 1}   \n",
       "\n",
       "   split0_test_score  split1_test_score  split2_test_score  split3_test_score  \\\n",
       "0          -9.333333          -7.000000               -2.0               -9.0   \n",
       "1          -9.333333          -6.966667               -2.0               -9.0   \n",
       "\n",
       "   mean_test_score  std_test_score  rank_test_score  split0_train_score  \\\n",
       "0            -7.10        2.724579                2           -5.771429   \n",
       "1            -7.09        2.724989                1           -5.000000   \n",
       "\n",
       "   split1_train_score  split2_train_score  split3_train_score  \\\n",
       "0           -6.771429              -8.025              -6.275   \n",
       "1           -6.014286              -7.125              -5.400   \n",
       "\n",
       "   mean_train_score  std_train_score  \n",
       "0         -6.710714         0.837129  \n",
       "1         -5.884821         0.801992  "
      ]
     },
     "execution_count": 153,
     "metadata": {},
     "output_type": "execute_result"
    }
   ],
   "source": [
    "print('best score: ',grid.best_score_)\n",
    "print('best params: ',grid.best_params_)\n",
    "print('\\n\\nfullresults: \\n', grid.cv_results_)\n",
    "df1 = pd.DataFrame(grid.cv_results_)\n",
    "df1"
   ]
  },
  {
   "cell_type": "code",
   "execution_count": 149,
   "metadata": {},
   "outputs": [
    {
     "data": {
      "text/plain": [
       "[30, 24, 49, 40, 21, 33, 35, 31, 40, 22]"
      ]
     },
     "execution_count": 149,
     "metadata": {},
     "output_type": "execute_result"
    }
   ],
   "source": [
    "age_pred = grid.predict(gm_maps_masked)\n",
    "np.mean(np.abs(age_pred-y_age))\n",
    "y_age"
   ]
  },
  {
   "cell_type": "code",
   "execution_count": null,
   "metadata": {
    "collapsed": true
   },
   "outputs": [],
   "source": [
    "# r2 score"
   ]
  }
 ],
 "metadata": {
  "kernelspec": {
   "display_name": "Python 3",
   "language": "python",
   "name": "python3"
  },
  "language_info": {
   "codemirror_mode": {
    "name": "ipython",
    "version": 3
   },
   "file_extension": ".py",
   "mimetype": "text/x-python",
   "name": "python",
   "nbconvert_exporter": "python",
   "pygments_lexer": "ipython3",
   "version": "3.6.0"
  }
 },
 "nbformat": 4,
 "nbformat_minor": 2
}
