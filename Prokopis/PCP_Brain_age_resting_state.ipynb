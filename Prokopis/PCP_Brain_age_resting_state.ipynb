{
 "cells": [
  {
   "cell_type": "code",
   "execution_count": null,
   "metadata": {},
   "outputs": [],
   "source": [
    "%matplotlib inline"
   ]
  },
  {
   "cell_type": "markdown",
   "metadata": {},
   "source": [
    "# Load data"
   ]
  },
  {
   "cell_type": "code",
   "execution_count": null,
   "metadata": {},
   "outputs": [],
   "source": [
    "from nilearn import datasets\n",
    "\n",
    "adhd_dataset = datasets.fetch_adhd(n_subjects=20)\n",
    "func_filenames = adhd_dataset.func\n",
    "confounds = adhd_dataset.confounds"
   ]
  },
  {
   "cell_type": "code",
   "execution_count": null,
   "metadata": {},
   "outputs": [],
   "source": [
    "from nilearn import datasets\n",
    "\n",
    "parcellations = datasets.fetch_atlas_basc_multiscale_2015(version='sym')\n",
    "\n",
    "# We show here networks of 64, 197, 444\n",
    "networks_64 = parcellations['scale064']\n",
    "networks_197 = parcellations['scale197']\n",
    "networks_444 = parcellations['scale444']"
   ]
  },
  {
   "cell_type": "markdown",
   "metadata": {},
   "source": [
    "# Get the correlation matrix and vectorize its upper triangular for all subjects"
   ]
  },
  {
   "cell_type": "code",
   "execution_count": null,
   "metadata": {},
   "outputs": [],
   "source": [
    "from nilearn.input_data import NiftiLabelsMasker\n",
    "masker = NiftiLabelsMasker(labels_img=networks_64, standardize=True,\n",
    "                           memory='nilearn_cache', verbose=5)\n",
    "\n",
    "n_regions = 64\n",
    "#Remember: you are using the networks_64 Basc\n",
    "#Remember: confounds will be regressed out during signal extraction\n",
    "\n",
    "\n",
    "#from nilearn import connectome and  sym_matrix_to_vec. The foremer will be used \n",
    "#to compute the correlation matrices and the latter to get the upper triangular of \n",
    "#each correlation matrix into a vector\n",
    "from nilearn.connectome import ConnectivityMeasure, sym_matrix_to_vec\n",
    "correlations = []\n",
    "upper_triang_corrs = []\n",
    "\n",
    "# Initializing ConnectivityMeasure object with kind='correlation'\n",
    "connectome_measure = ConnectivityMeasure(kind='correlation')\n",
    "for filename, confound in zip(func_filenames, confounds):\n",
    "    timeseries_each_subject = masker.fit_transform(filename, confound)\n",
    "    # call fit_transform from ConnectivityMeasure object\n",
    "    correlation = connectome_measure.fit_transform([timeseries_each_subject])\n",
    "    # saving each subject correlation to correlations\n",
    "    correlations.append(correlation)\n",
    "    # get the upper triangular correlation matrix of correlation\n",
    "    upper_triang_corr = sym_matrix_to_vec(correlation, discard_diagonal=False)\n",
    "    # saving each subject upper_triang_corr to upper_triang_corrs\n",
    "    upper_triang_corrs.append(upper_triang_corr)   "
   ]
  },
  {
   "cell_type": "markdown",
   "metadata": {},
   "source": [
    "# Get the mean corerlation matrix across subjects and plot it"
   ]
  },
  {
   "cell_type": "code",
   "execution_count": null,
   "metadata": {},
   "outputs": [],
   "source": [
    "# Mean of all correlations\n",
    "import numpy as np\n",
    "mean_correlations = np.mean(correlations, axis=0).reshape(n_regions,\n",
    "                                                          n_regions)"
   ]
  },
  {
   "cell_type": "code",
   "execution_count": null,
   "metadata": {},
   "outputs": [],
   "source": [
    "from nilearn import plotting\n",
    "title = 'Correlation between %d regions' % n_regions\n",
    "\n",
    "# First plot the matrix\n",
    "display = plotting.plot_matrix(mean_correlations, vmax=1, vmin=-1,\n",
    "                               colorbar=True, title=title)"
   ]
  }
 ],
 "metadata": {
  "kernelspec": {
   "display_name": "Python 3",
   "language": "python",
   "name": "python3"
  },
  "language_info": {
   "codemirror_mode": {
    "name": "ipython",
    "version": 3
   },
   "file_extension": ".py",
   "mimetype": "text/x-python",
   "name": "python",
   "nbconvert_exporter": "python",
   "pygments_lexer": "ipython3",
   "version": "3.5.2"
  }
 },
 "nbformat": 4,
 "nbformat_minor": 2
}
