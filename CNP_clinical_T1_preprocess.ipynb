{
 "cells": [
  {
   "cell_type": "code",
   "execution_count": 22,
   "metadata": {},
   "outputs": [],
   "source": [
    "import pandas as pd\n",
    "import numpy as np\n",
    "import nibabel as nib\n",
    "import datetime\n",
    "import os\n",
    "import random\n",
    "from nilearn.input_data import NiftiMasker"
   ]
  },
  {
   "cell_type": "code",
   "execution_count": 18,
   "metadata": {
    "collapsed": true
   },
   "outputs": [],
   "source": [
    "# Parameters\n",
    "toy = False\n",
    "run_all = True\n",
    "path = '/home/ubuntu/fmriprep/'\n",
    "output_dir = '../output/'\n",
    "\n",
    "# input_dir = '/home/ubuntu/brain_age/drsulliv3/'\n",
    "input_dir = '/Users/danielmlow/Dropbox/neurohack/brain_age/data/CNP_clinical/func/' #Daniel's PC\n",
    "\n",
    "\n",
    "n_jobs = 20 #amount of cores\n",
    "cv=4\n",
    "description = 'CNP_clinical_T1_age_'\n",
    "log_file = description+datetime.datetime.now().strftime(\"%y-%m-%d-%H-%M-%S\")"
   ]
  },
  {
   "cell_type": "code",
   "execution_count": 33,
   "metadata": {},
   "outputs": [
    {
     "data": {
      "text/plain": [
       "'CNP_func_gridsearch_age_18-08-09-19-17-53'"
      ]
     },
     "execution_count": 33,
     "metadata": {},
     "output_type": "execute_result"
    }
   ],
   "source": [
    "log_file"
   ]
  },
  {
   "cell_type": "code",
   "execution_count": 8,
   "metadata": {},
   "outputs": [],
   "source": [
    "population = 'adhd'\n",
    "parcellation = '444'\n",
    "loaded = np.load(input_dir+'CNP_func_gridsearch_age_18-08-10-02-50-17CNP_func'+population+'_'+parcellation+'_train_set.npz')\n",
    "y_adhd, subj_adhd = loaded['b'], loaded['c']\n",
    "\n",
    "population = 'bipolar'\n",
    "parcellation = '444'\n",
    "loaded = np.load(input_dir+'CNP_func_gridsearch_age_18-08-10-02-50-17CNP_func'+population+'_'+parcellation+'_train_set.npz')\n",
    "y_bipolar, subj_bipolar = loaded['b'], loaded['c']\n",
    "\n",
    "population = 'bipolar'\n",
    "parcellation = '444'\n",
    "loaded = np.load(input_dir+'CNP_func_gridsearch_age_18-08-10-02-50-17CNP_func'+population+'_'+parcellation+'_train_set.npz')\n",
    "y_bipolar, subj_bipolar = loaded['b'], loaded['c']\n"
   ]
  },
  {
   "cell_type": "code",
   "execution_count": 19,
   "metadata": {},
   "outputs": [],
   "source": [
    "# Load volumes for each subject into a dictionary    \n",
    "\n",
    "\n",
    "def filenames(subj):\n",
    "    filenames = []\n",
    "    for i in range(len(subj)):\n",
    "        filenames.append(path+'sub-'+subj[i]+'/anat/sub-'+subj[i]+'_T1w_space-MNI152NLIN2009cAsym_preprop.nii.gz')\n",
    "    return filenames\n",
    "\n",
    "filenames_adhd  = filenames(subj_adhd)\n",
    "filenames_schz  = filenames(subj_schz)\n",
    "filenames_bipolar  = filenames(subj_bipolar)\n"
   ]
  },
  {
   "cell_type": "code",
   "execution_count": 15,
   "metadata": {
    "collapsed": true
   },
   "outputs": [],
   "source": [
    "from nilearn.input_data import NiftiLabelsMasker\n",
    "from nilearn.connectome import ConnectivityMeasure, sym_matrix_to_vec\n",
    "\n",
    "def t1_2_matrix(name, filenames, y, subj):    \n",
    "    path_and_filenames = [path+n for n in filenames]\n",
    "    nifti_masker = NiftiMasker(\n",
    "        standardize=False,\n",
    "        smoothing_fwhm=2, mask_strategy='epi',\n",
    "        memory='nilearn_cache')  # cache options\n",
    "    gm_maps_masked = nifti_masker.fit_transform(filenames)\n",
    "    print(\"%d samples, %d features\" % (n_samples, n_features))\n",
    "    #   Split train test sets and save\n",
    "    split = len(gm_maps_masked)/2.\n",
    "    X_train = gm_maps_masked[:split]\n",
    "    X_test = gm_maps_masked[split:]\n",
    "    y_train = y[:split]\n",
    "    y_test = y[split:]\n",
    "    random_subj_train = subj[:split]\n",
    "    random_subj_test = subj[split:]\n",
    "    np.savez_compressed(output_dir+'CNP_T1_'+name+'_train_set',a=X_train, b=y_train, c=random_subj_train)\n",
    "    np.savez_compressed(output_dir+'CNP_T1_'+name+'_test_set',a=X_test, b=y_test, c=random_subj_test)\n",
    "    return gm_maps_masked\n",
    "\n",
    "\n",
    "gm_maps_masked = t1_2_matrix('adhd', filenames_adhd, y_adhd, subj_adhd)\n",
    "gm_maps_masked = t1_2_matrix('schz', filenames_schz, y_schz, subj_schz)\n",
    "gm_maps_masked = t1_2_matrix('bipolar', filenames_bipolar, y_bipolar, subj_bipolar)"
   ]
  }
 ],
 "metadata": {
  "kernelspec": {
   "display_name": "Python 3",
   "language": "python",
   "name": "python3"
  },
  "language_info": {
   "codemirror_mode": {
    "name": "ipython",
    "version": 3
   },
   "file_extension": ".py",
   "mimetype": "text/x-python",
   "name": "python",
   "nbconvert_exporter": "python",
   "pygments_lexer": "ipython3",
   "version": "3.6.0"
  }
 },
 "nbformat": 4,
 "nbformat_minor": 2
}
