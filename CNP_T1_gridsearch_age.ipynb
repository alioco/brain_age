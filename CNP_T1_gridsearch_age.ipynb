{
 "cells": [
  {
   "cell_type": "markdown",
   "metadata": {},
   "source": [
    "# BrainAge Project"
   ]
  },
  {
   "cell_type": "code",
   "execution_count": 7,
   "metadata": {},
   "outputs": [],
   "source": [
    "import pandas as pd\n",
    "import numpy as np\n",
    "import nibabel as nib\n",
    "from sklearn.model_selection import KFold\n",
    "from sklearn.svm import SVR\n",
    "# from sklearn.linear_model import LinearRegression\n",
    "from sklearn.feature_selection import VarianceThreshold, SelectKBest, f_regression\n",
    "import os\n",
    "from sklearn.model_selection import train_test_split\n",
    "from sklearn.model_selection import GridSearchCV\n",
    "from sklearn.metrics import mean_absolute_error\n",
    "from nilearn.input_data import NiftiMasker\n",
    "import random\n",
    "import matplotlib.pyplot as plt\n",
    "import datetime"
   ]
  },
  {
   "cell_type": "code",
   "execution_count": 8,
   "metadata": {
    "collapsed": true
   },
   "outputs": [],
   "source": [
    "# Parameters\n",
    "# Config\n",
    "toy = False\n",
    "run_all = False\n",
    "\n",
    "path = '/home/ubuntu/fmriprep/'\n",
    "# output_dir = '/output/' #AWS cloud\n",
    "output_dir = 'data/CNP_T1/' #For Daniel's computer\n",
    "\n",
    "n_jobs = 20 #amount of cores\n",
    "cv=4\n",
    "\n",
    "description = 'CNP_T1_validation_age_'\n",
    "log_file = description+datetime.datetime.now().strftime(\"%y-%m-%d-%H-%M-%S\")"
   ]
  },
  {
   "cell_type": "code",
   "execution_count": 9,
   "metadata": {
    "collapsed": true
   },
   "outputs": [],
   "source": [
    "# Load subject ids\n",
    "if run_all:\n",
    "    files = os.listdir(path)\n",
    "    subj = [n[4:9] for n in files if n.startswith('sub')] #here we will filter the file names to leave only subj number as bellow\n",
    "\n",
    "    input_dir = '/home/ubuntu/'\n",
    "    file = 'subjlist_wfiles_CNP.txt'\n",
    "    with open(input_dir+file, 'r') as f:\n",
    "        lines = f.readlines()\n",
    "\n",
    "    subj = [n.strip()[4:] for n in lines]\n",
    "\n",
    "#     This is only done once\n",
    "#     random_subj = subj[:]\n",
    "#     random.shuffle(random_subj)"
   ]
  },
  {
   "cell_type": "code",
   "execution_count": 10,
   "metadata": {
    "collapsed": true
   },
   "outputs": [],
   "source": [
    "# Load ages\n",
    "# df = pd.read_csv('participants.tsv', sep='\\t')\n",
    "\n",
    "# # take age from subj id\n",
    "# y_age = []\n",
    "# for i in random_subj:\n",
    "#     a = df.loc[df['participant_id'] == 'sub-'+i] #whole row\n",
    "#     y_age.append(int(a.age))\n",
    "\n",
    "\n",
    "# # Load IQ\n",
    "# df = pd.read_csv('add file here', sep='\\t')\n",
    "\n",
    "# # take age from subj id\n",
    "# y_age = []\n",
    "# for i in subj:\n",
    "#     a = df.loc[df['participant_id'] == 'sub-'+i] #whole row\n",
    "#     y_iq.append(int(a.id))\n"
   ]
  },
  {
   "cell_type": "code",
   "execution_count": 11,
   "metadata": {
    "collapsed": true
   },
   "outputs": [],
   "source": [
    "# # Load volumes for each subject into a dictionary\n",
    "# d = {}\n",
    "# for i in range(len(subj)):\n",
    "#     img = nib.load(path+'sub-'+subj[i]+'_T1w_space_MNI152NLin2009cAsym_preproc.nii.gz').get_fdata()\n",
    "#     d[subj[i]] = img\n",
    "\n",
    "if run_all:\n",
    "    filenames = []\n",
    "    # data = []\n",
    "    for i in range(len(random_subj)):\n",
    "    #     img = nib.load(path+'sub-'+subj[i]+/anat/'sub-'+subj[i]+'_T1w_space_MNI152NLin2009cAsym_preproc.nii.gz').get_fdata()\n",
    "    #     data.append(img)\n",
    "        filenames.append(path+'sub-'+random_subj[i]+'/anat/sub-'+random_subj[i]+'_T1w_space-MNI152NLin2009cAsym_preproc.nii.gz')\n",
    "\n",
    "# data  = np.array(data) \n",
    "\n",
    "## Let's see the size of a single volume\n",
    "# data.shape\n",
    "\n",
    "# # Flatten 3D volume and append to a list (or feed 3D volume to nilearn)\n",
    "# X = []\n",
    "\n",
    "# for i in d.values():\n",
    "#     flattened = i.flatten()\n",
    "#     X.append(flattened)\n",
    "    \n",
    "# # Turn list into array \n",
    "# X = np.array(X)"
   ]
  },
  {
   "cell_type": "code",
   "execution_count": 12,
   "metadata": {
    "collapsed": true
   },
   "outputs": [],
   "source": [
    "# filenames"
   ]
  },
  {
   "cell_type": "code",
   "execution_count": 13,
   "metadata": {
    "collapsed": true
   },
   "outputs": [],
   "source": [
    "# Affine resample\n",
    "\n",
    "# from nilearn.image import resample_to_img\n",
    "# # img = data.affine\n",
    "\n",
    "# resampled_imgs = []\n",
    "# resampled_imgs.append(nib.load(path+filenames[0]))\n",
    "                      \n",
    "# for i in range(1,len(filenames)):\n",
    "#     resampled_img = resample_to_img(path+filenames[i], path+filenames[0])\n",
    "#     resampled_imgs.append(resampled_img)\n",
    "\n",
    "# for i in resampled_imgs:\n",
    "#     print(i.affine)"
   ]
  },
  {
   "cell_type": "code",
   "execution_count": 14,
   "metadata": {
    "collapsed": true
   },
   "outputs": [],
   "source": [
    "if run_all:\n",
    "    path_and_filenames = [path+n for n in filenames]\n",
    "\n",
    "    nifti_masker = NiftiMasker(\n",
    "        standardize=False,\n",
    "        smoothing_fwhm=2, mask_strategy='epi',\n",
    "        memory='nilearn_cache')  # cache options\n",
    "    gm_maps_masked = nifti_masker.fit_transform(filenames)\n",
    "    n_samples, n_features = gm_maps_masked.shape\n",
    "    print(\"%d samples, %d features\" % (n_samples, n_features))"
   ]
  },
  {
   "cell_type": "code",
   "execution_count": 15,
   "metadata": {
    "collapsed": true
   },
   "outputs": [],
   "source": [
    "if run_all:\n",
    "    print(\"%d samples, %d features\" % (n_samples, n_features))"
   ]
  },
  {
   "cell_type": "code",
   "execution_count": 16,
   "metadata": {
    "collapsed": true
   },
   "outputs": [],
   "source": [
    "if run_all:\n",
    "    %matplotlib inline\n",
    "    from nilearn import plotting\n",
    "    plotting.plot_roi(nifti_masker.mask_img_)\n",
    "    plotting.plot_roi(nifti_masker.mask_img_, bg_img=filenames[0])\n",
    "    plt.savefig(output_dir+'nilearn_mask')"
   ]
  },
  {
   "cell_type": "code",
   "execution_count": 17,
   "metadata": {
    "collapsed": true
   },
   "outputs": [],
   "source": [
    "if run_all:\n",
    "    X_train = gm_maps_masked[:84]\n",
    "    X_test = gm_maps_masked[84:]\n",
    "    y_train = y_age[:84]\n",
    "    y_test = y_age[84:]\n",
    "    random_subj_train = random_subj[:84]\n",
    "    random_subj_test = random_subj[84:]\n",
    "\n",
    "    np.savez_compressed(output_dir+log_file+'train_set',a=X_train, b=y_train, c=random_subj_train)\n",
    "    np.savez_compressed(output_dir+log_file+'test_set',a=X_test, b=y_test, c=random_subj_test)\n",
    "else:\n",
    "    loaded = np.load(output_dir+'train_set.npz')\n",
    "    X_train, y_train, random_subj_train = loaded['a'], loaded['b'], loaded['c']\n"
   ]
  },
  {
   "cell_type": "code",
   "execution_count": 18,
   "metadata": {},
   "outputs": [
    {
     "name": "stdout",
     "output_type": "stream",
     "text": [
      "(84,)\n",
      "(84, 1899247)\n"
     ]
    }
   ],
   "source": [
    "print(y_train.shape)\n",
    "print(X_train.shape)"
   ]
  },
  {
   "cell_type": "markdown",
   "metadata": {},
   "source": [
    "## Gridsearch \n",
    "### Models\n",
    "* Linear Support vector regressor\n",
    "    * C = 0.0001, 0.001, 0.1, 1.0, 10.0\n",
    "\n",
    "### Feature selection\n",
    "* ANOVA\n",
    "    * 2000 features\n",
    "    * 50 k\n",
    "    * 100k features\n",
    "    * 500k\n",
    "    * Use all features (176*256*256=11534336)"
   ]
  },
  {
   "cell_type": "code",
   "execution_count": 22,
   "metadata": {},
   "outputs": [
    {
     "name": "stderr",
     "output_type": "stream",
     "text": [
      "/Library/Frameworks/Python.framework/Versions/3.6/lib/python3.6/site-packages/sklearn/svm/base.py:194: FutureWarning: The default value of gamma will change from 'auto' to 'scale' in version 0.22 to account better for unscaled features. Set gamma explicitly to 'auto' or 'scale' to avoid this warning.\n",
      "  \"avoid this warning.\", FutureWarning)\n",
      "/Library/Frameworks/Python.framework/Versions/3.6/lib/python3.6/site-packages/sklearn/svm/base.py:194: FutureWarning: The default value of gamma will change from 'auto' to 'scale' in version 0.22 to account better for unscaled features. Set gamma explicitly to 'auto' or 'scale' to avoid this warning.\n",
      "  \"avoid this warning.\", FutureWarning)\n",
      "/Library/Frameworks/Python.framework/Versions/3.6/lib/python3.6/site-packages/sklearn/svm/base.py:194: FutureWarning: The default value of gamma will change from 'auto' to 'scale' in version 0.22 to account better for unscaled features. Set gamma explicitly to 'auto' or 'scale' to avoid this warning.\n",
      "  \"avoid this warning.\", FutureWarning)\n",
      "/Library/Frameworks/Python.framework/Versions/3.6/lib/python3.6/site-packages/sklearn/svm/base.py:194: FutureWarning: The default value of gamma will change from 'auto' to 'scale' in version 0.22 to account better for unscaled features. Set gamma explicitly to 'auto' or 'scale' to avoid this warning.\n",
      "  \"avoid this warning.\", FutureWarning)\n",
      "/Library/Frameworks/Python.framework/Versions/3.6/lib/python3.6/site-packages/sklearn/svm/base.py:194: FutureWarning: The default value of gamma will change from 'auto' to 'scale' in version 0.22 to account better for unscaled features. Set gamma explicitly to 'auto' or 'scale' to avoid this warning.\n",
      "  \"avoid this warning.\", FutureWarning)\n",
      "/Library/Frameworks/Python.framework/Versions/3.6/lib/python3.6/site-packages/sklearn/svm/base.py:194: FutureWarning: The default value of gamma will change from 'auto' to 'scale' in version 0.22 to account better for unscaled features. Set gamma explicitly to 'auto' or 'scale' to avoid this warning.\n",
      "  \"avoid this warning.\", FutureWarning)\n",
      "/Library/Frameworks/Python.framework/Versions/3.6/lib/python3.6/site-packages/sklearn/svm/base.py:194: FutureWarning: The default value of gamma will change from 'auto' to 'scale' in version 0.22 to account better for unscaled features. Set gamma explicitly to 'auto' or 'scale' to avoid this warning.\n",
      "  \"avoid this warning.\", FutureWarning)\n",
      "/Library/Frameworks/Python.framework/Versions/3.6/lib/python3.6/site-packages/sklearn/svm/base.py:194: FutureWarning: The default value of gamma will change from 'auto' to 'scale' in version 0.22 to account better for unscaled features. Set gamma explicitly to 'auto' or 'scale' to avoid this warning.\n",
      "  \"avoid this warning.\", FutureWarning)\n",
      "/Library/Frameworks/Python.framework/Versions/3.6/lib/python3.6/site-packages/sklearn/svm/base.py:194: FutureWarning: The default value of gamma will change from 'auto' to 'scale' in version 0.22 to account better for unscaled features. Set gamma explicitly to 'auto' or 'scale' to avoid this warning.\n",
      "  \"avoid this warning.\", FutureWarning)\n"
     ]
    },
    {
     "data": {
      "text/plain": [
       "GridSearchCV(cv=4, error_score='raise-deprecating',\n",
       "       estimator=Pipeline(memory=None,\n",
       "     steps=[('anova', SelectKBest(k=10, score_func=<function f_regression at 0x1114fbf28>)), ('svr', SVR(C=1.0, cache_size=200, coef0=0.0, degree=3, epsilon=0.1,\n",
       "  gamma='auto_deprecated', kernel='rbf', max_iter=-1, shrinking=True,\n",
       "  tol=0.001, verbose=False))]),\n",
       "       fit_params=None, iid='warn', n_jobs=20,\n",
       "       param_grid=[{'anova__k': [5000], 'svr__C': [1e-05, 0.0001]}],\n",
       "       pre_dispatch='2*n_jobs', refit=True, return_train_score='warn',\n",
       "       scoring='neg_mean_absolute_error', verbose=0)"
      ]
     },
     "execution_count": 22,
     "metadata": {},
     "output_type": "execute_result"
    }
   ],
   "source": [
    "from sklearn.pipeline import Pipeline\n",
    "\n",
    "toy = True\n",
    "\n",
    "if toy:\n",
    "    X_train = X_train[:8]\n",
    "    y_train = y_train[:8]\n",
    "\n",
    "\n",
    "# Remove features with too low between-subject variance\n",
    "# variance_threshold = \n",
    "\n",
    "# Here we use a classical univariate feature selection based on F-test,\n",
    "# namely Anova.\n",
    "# feature_selection = SelectKBest(f_regression)\n",
    "\n",
    "# We have our predictor (SVR), our feature selection (SelectKBest), and now,\n",
    "# we can plug them together in a *pipeline* that performs the two operations\n",
    "# successively:\n",
    "               \n",
    "               \n",
    "\n",
    "anova_svr = Pipeline([\n",
    "    ('anova', SelectKBest(f_regression)),\n",
    "    ('svr', SVR())])\n",
    "\n",
    "parameters = [{'anova__k': [5000,100000, 'all'],\n",
    "               'svr__C': [0.00001, 0.0001, 0.001, 0.01, 1, 10]}]\n",
    "\n",
    "# parameters = [{'anova__k': [5000],\n",
    "#                'svr__C': [0.00001, 0.0001]}]\n",
    "\n",
    "\n",
    "grid = GridSearchCV(anova_svr, cv=cv, n_jobs=n_jobs, param_grid=parameters, scoring='neg_mean_absolute_error')\n",
    "grid.fit(X_train, y_train)\n",
    "\n",
    "# mean_scores = np.array(grid.cv_results_['neg_mean_absolute_error'])\n",
    "# mean_scores = mean_scores.reshape(len(C_OPTIONS), -1, len(N_FEATURES_OPTIONS))\n",
    "# # select score for best C\n",
    "# mean_scores = mean_scores.max(axis=0)\n",
    "# bar_offsets = (np.arange(len(N_FEATURES_OPTIONS)) *\n",
    "#                (len(reducer_labels) + 1) + .5)\n",
    "\n",
    "\n",
    "\n",
    "\n"
   ]
  },
  {
   "cell_type": "code",
   "execution_count": 23,
   "metadata": {},
   "outputs": [
    {
     "name": "stdout",
     "output_type": "stream",
     "text": [
      "best score:  -7.875\n",
      "best params:  {'anova__k': 5000, 'svr__C': 1e-05}\n",
      "\n",
      "\n",
      "fullresults: \n",
      " {'mean_fit_time': array([5.27354044, 5.46070498]), 'std_fit_time': array([0.41653217, 0.55124428]), 'mean_score_time': array([1.33596385, 1.25342274]), 'std_score_time': array([0.03757027, 0.08407761]), 'param_anova__k': masked_array(data=[5000, 5000],\n",
      "             mask=[False, False],\n",
      "       fill_value='?',\n",
      "            dtype=object), 'param_svr__C': masked_array(data=[1e-05, 0.0001],\n",
      "             mask=[False, False],\n",
      "       fill_value='?',\n",
      "            dtype=object), 'params': [{'anova__k': 5000, 'svr__C': 1e-05}, {'anova__k': 5000, 'svr__C': 0.0001}], 'split0_test_score': array([-7.5, -7.5]), 'split1_test_score': array([-9.5, -9.5]), 'split2_test_score': array([-8., -8.]), 'split3_test_score': array([-6.5, -6.5]), 'mean_test_score': array([-7.875, -7.875]), 'std_test_score': array([1.08253175, 1.08253175]), 'rank_test_score': array([1, 1], dtype=int32), 'split0_train_score': array([-7.66665667, -7.66656667]), 'split1_train_score': array([-5.16666, -5.1666 ]), 'split2_train_score': array([-5.99999, -5.9999 ]), 'split3_train_score': array([-6.16666, -6.1666 ]), 'mean_train_score': array([-6.24999167, -6.24991667]), 'std_train_score': array([0.90138674, 0.90137703])}\n"
     ]
    },
    {
     "name": "stderr",
     "output_type": "stream",
     "text": [
      "/Library/Frameworks/Python.framework/Versions/3.6/lib/python3.6/site-packages/sklearn/utils/deprecation.py:122: FutureWarning: You are accessing a training score ('split0_train_score'), which will not be available by default any more in 0.21. If you need training scores, please set return_train_score=True\n",
      "  warnings.warn(*warn_args, **warn_kwargs)\n",
      "/Library/Frameworks/Python.framework/Versions/3.6/lib/python3.6/site-packages/sklearn/utils/deprecation.py:122: FutureWarning: You are accessing a training score ('split1_train_score'), which will not be available by default any more in 0.21. If you need training scores, please set return_train_score=True\n",
      "  warnings.warn(*warn_args, **warn_kwargs)\n",
      "/Library/Frameworks/Python.framework/Versions/3.6/lib/python3.6/site-packages/sklearn/utils/deprecation.py:122: FutureWarning: You are accessing a training score ('split2_train_score'), which will not be available by default any more in 0.21. If you need training scores, please set return_train_score=True\n",
      "  warnings.warn(*warn_args, **warn_kwargs)\n",
      "/Library/Frameworks/Python.framework/Versions/3.6/lib/python3.6/site-packages/sklearn/utils/deprecation.py:122: FutureWarning: You are accessing a training score ('split3_train_score'), which will not be available by default any more in 0.21. If you need training scores, please set return_train_score=True\n",
      "  warnings.warn(*warn_args, **warn_kwargs)\n",
      "/Library/Frameworks/Python.framework/Versions/3.6/lib/python3.6/site-packages/sklearn/utils/deprecation.py:122: FutureWarning: You are accessing a training score ('mean_train_score'), which will not be available by default any more in 0.21. If you need training scores, please set return_train_score=True\n",
      "  warnings.warn(*warn_args, **warn_kwargs)\n",
      "/Library/Frameworks/Python.framework/Versions/3.6/lib/python3.6/site-packages/sklearn/utils/deprecation.py:122: FutureWarning: You are accessing a training score ('std_train_score'), which will not be available by default any more in 0.21. If you need training scores, please set return_train_score=True\n",
      "  warnings.warn(*warn_args, **warn_kwargs)\n"
     ]
    },
    {
     "data": {
      "text/html": [
       "<div>\n",
       "<style scoped>\n",
       "    .dataframe tbody tr th:only-of-type {\n",
       "        vertical-align: middle;\n",
       "    }\n",
       "\n",
       "    .dataframe tbody tr th {\n",
       "        vertical-align: top;\n",
       "    }\n",
       "\n",
       "    .dataframe thead th {\n",
       "        text-align: right;\n",
       "    }\n",
       "</style>\n",
       "<table border=\"1\" class=\"dataframe\">\n",
       "  <thead>\n",
       "    <tr style=\"text-align: right;\">\n",
       "      <th></th>\n",
       "      <th>mean_fit_time</th>\n",
       "      <th>std_fit_time</th>\n",
       "      <th>mean_score_time</th>\n",
       "      <th>std_score_time</th>\n",
       "      <th>param_anova__k</th>\n",
       "      <th>param_svr__C</th>\n",
       "      <th>params</th>\n",
       "      <th>split0_test_score</th>\n",
       "      <th>split1_test_score</th>\n",
       "      <th>split2_test_score</th>\n",
       "      <th>split3_test_score</th>\n",
       "      <th>mean_test_score</th>\n",
       "      <th>std_test_score</th>\n",
       "      <th>rank_test_score</th>\n",
       "      <th>split0_train_score</th>\n",
       "      <th>split1_train_score</th>\n",
       "      <th>split2_train_score</th>\n",
       "      <th>split3_train_score</th>\n",
       "      <th>mean_train_score</th>\n",
       "      <th>std_train_score</th>\n",
       "    </tr>\n",
       "  </thead>\n",
       "  <tbody>\n",
       "    <tr>\n",
       "      <th>0</th>\n",
       "      <td>5.273540</td>\n",
       "      <td>0.416532</td>\n",
       "      <td>1.335964</td>\n",
       "      <td>0.037570</td>\n",
       "      <td>5000</td>\n",
       "      <td>1e-05</td>\n",
       "      <td>{'anova__k': 5000, 'svr__C': 1e-05}</td>\n",
       "      <td>-7.5</td>\n",
       "      <td>-9.5</td>\n",
       "      <td>-8.0</td>\n",
       "      <td>-6.5</td>\n",
       "      <td>-7.875</td>\n",
       "      <td>1.082532</td>\n",
       "      <td>1</td>\n",
       "      <td>-7.666657</td>\n",
       "      <td>-5.16666</td>\n",
       "      <td>-5.99999</td>\n",
       "      <td>-6.16666</td>\n",
       "      <td>-6.249992</td>\n",
       "      <td>0.901387</td>\n",
       "    </tr>\n",
       "    <tr>\n",
       "      <th>1</th>\n",
       "      <td>5.460705</td>\n",
       "      <td>0.551244</td>\n",
       "      <td>1.253423</td>\n",
       "      <td>0.084078</td>\n",
       "      <td>5000</td>\n",
       "      <td>0.0001</td>\n",
       "      <td>{'anova__k': 5000, 'svr__C': 0.0001}</td>\n",
       "      <td>-7.5</td>\n",
       "      <td>-9.5</td>\n",
       "      <td>-8.0</td>\n",
       "      <td>-6.5</td>\n",
       "      <td>-7.875</td>\n",
       "      <td>1.082532</td>\n",
       "      <td>1</td>\n",
       "      <td>-7.666567</td>\n",
       "      <td>-5.16660</td>\n",
       "      <td>-5.99990</td>\n",
       "      <td>-6.16660</td>\n",
       "      <td>-6.249917</td>\n",
       "      <td>0.901377</td>\n",
       "    </tr>\n",
       "  </tbody>\n",
       "</table>\n",
       "</div>"
      ],
      "text/plain": [
       "   mean_fit_time  std_fit_time  mean_score_time  std_score_time  \\\n",
       "0       5.273540      0.416532         1.335964        0.037570   \n",
       "1       5.460705      0.551244         1.253423        0.084078   \n",
       "\n",
       "  param_anova__k param_svr__C                                params  \\\n",
       "0           5000        1e-05   {'anova__k': 5000, 'svr__C': 1e-05}   \n",
       "1           5000       0.0001  {'anova__k': 5000, 'svr__C': 0.0001}   \n",
       "\n",
       "   split0_test_score  split1_test_score  split2_test_score  split3_test_score  \\\n",
       "0               -7.5               -9.5               -8.0               -6.5   \n",
       "1               -7.5               -9.5               -8.0               -6.5   \n",
       "\n",
       "   mean_test_score  std_test_score  rank_test_score  split0_train_score  \\\n",
       "0           -7.875        1.082532                1           -7.666657   \n",
       "1           -7.875        1.082532                1           -7.666567   \n",
       "\n",
       "   split1_train_score  split2_train_score  split3_train_score  \\\n",
       "0            -5.16666            -5.99999            -6.16666   \n",
       "1            -5.16660            -5.99990            -6.16660   \n",
       "\n",
       "   mean_train_score  std_train_score  \n",
       "0         -6.249992         0.901387  \n",
       "1         -6.249917         0.901377  "
      ]
     },
     "execution_count": 23,
     "metadata": {},
     "output_type": "execute_result"
    }
   ],
   "source": [
    "print('best score: ',grid.best_score_)\n",
    "print('best params: ',grid.best_params_)\n",
    "print('\\n\\nfullresults: \\n', grid.cv_results_)\n",
    "df1 = pd.DataFrame(grid.cv_results_)\n",
    "df1"
   ]
  },
  {
   "cell_type": "code",
   "execution_count": 24,
   "metadata": {},
   "outputs": [
    {
     "name": "stderr",
     "output_type": "stream",
     "text": [
      "/Library/Frameworks/Python.framework/Versions/3.6/lib/python3.6/site-packages/sklearn/utils/deprecation.py:122: FutureWarning: You are accessing a training score ('split0_train_score'), which will not be available by default any more in 0.21. If you need training scores, please set return_train_score=True\n",
      "  warnings.warn(*warn_args, **warn_kwargs)\n",
      "/Library/Frameworks/Python.framework/Versions/3.6/lib/python3.6/site-packages/sklearn/utils/deprecation.py:122: FutureWarning: You are accessing a training score ('split1_train_score'), which will not be available by default any more in 0.21. If you need training scores, please set return_train_score=True\n",
      "  warnings.warn(*warn_args, **warn_kwargs)\n",
      "/Library/Frameworks/Python.framework/Versions/3.6/lib/python3.6/site-packages/sklearn/utils/deprecation.py:122: FutureWarning: You are accessing a training score ('split2_train_score'), which will not be available by default any more in 0.21. If you need training scores, please set return_train_score=True\n",
      "  warnings.warn(*warn_args, **warn_kwargs)\n",
      "/Library/Frameworks/Python.framework/Versions/3.6/lib/python3.6/site-packages/sklearn/utils/deprecation.py:122: FutureWarning: You are accessing a training score ('split3_train_score'), which will not be available by default any more in 0.21. If you need training scores, please set return_train_score=True\n",
      "  warnings.warn(*warn_args, **warn_kwargs)\n",
      "/Library/Frameworks/Python.framework/Versions/3.6/lib/python3.6/site-packages/sklearn/utils/deprecation.py:122: FutureWarning: You are accessing a training score ('mean_train_score'), which will not be available by default any more in 0.21. If you need training scores, please set return_train_score=True\n",
      "  warnings.warn(*warn_args, **warn_kwargs)\n",
      "/Library/Frameworks/Python.framework/Versions/3.6/lib/python3.6/site-packages/sklearn/utils/deprecation.py:122: FutureWarning: You are accessing a training score ('std_train_score'), which will not be available by default any more in 0.21. If you need training scores, please set return_train_score=True\n",
      "  warnings.warn(*warn_args, **warn_kwargs)\n"
     ]
    }
   ],
   "source": [
    "age_pred = grid.predict(X_train)\n",
    "mean_abs_error = np.mean(np.abs(age_pred-y_train))\n",
    "df1 = pd.DataFrame(grid.cv_results_)\n",
    "\n",
    "with open(output_dir+'log_'+log_file+'.txt', '+a') as f:\n",
    "    f.write('best score: '+str(grid.best_score_))\n",
    "    f.write('best params: '+str(grid.best_params_))\n",
    "    f.write('\\n\\nfullresults: \\n'+str(grid.cv_results_)+'\\n')\n",
    "    f.write(str(df1)+'\\n')\n",
    "    f.write(str(age_pred)+'\\n')\n",
    "    f.write(str(y_train)+'\\n')\n",
    "    f.write(str(mean_abs_error)+'\\n')\n",
    "    "
   ]
  },
  {
   "cell_type": "code",
   "execution_count": 19,
   "metadata": {
    "collapsed": true
   },
   "outputs": [],
   "source": []
  }
 ],
 "metadata": {
  "kernelspec": {
   "display_name": "Python 3",
   "language": "python",
   "name": "python3"
  },
  "language_info": {
   "codemirror_mode": {
    "name": "ipython",
    "version": 3
   },
   "file_extension": ".py",
   "mimetype": "text/x-python",
   "name": "python",
   "nbconvert_exporter": "python",
   "pygments_lexer": "ipython3",
   "version": "3.6.0"
  }
 },
 "nbformat": 4,
 "nbformat_minor": 2
}
